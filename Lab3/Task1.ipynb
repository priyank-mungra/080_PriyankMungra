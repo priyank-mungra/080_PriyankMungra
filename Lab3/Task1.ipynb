{
 "cells": [
  {
   "cell_type": "markdown",
   "id": "12ed8152",
   "metadata": {},
   "source": [
    "Task 1: Try the algo on Dataset2 - OneHotEncoding of features and Train test Division 75%-25%"
   ]
  },
  {
   "cell_type": "code",
   "execution_count": 26,
   "id": "445edf92",
   "metadata": {},
   "outputs": [
    {
     "name": "stdout",
     "output_type": "stream",
     "text": [
      "   Outlook Temp Wind Humidity Class\n",
      "0        R    H    F   Normal     N\n",
      "1        R    H    T     High     N\n",
      "2        O    H    F   Normal     Y\n",
      "3        S    M    F   Normal     N\n",
      "4        S    M    F   Normal     Y\n",
      "5        S    M    T      Low     Y\n",
      "6        O    C    T   Normal     Y\n",
      "7        R    C    F   Normal     Y\n",
      "8        R    C    F      Low     Y\n",
      "9        S    M    F     High     Y\n",
      "10       R    M    T     High     Y\n",
      "11       O    M    T      Low     Y\n",
      "12       O    H    F   Normal     Y\n",
      "13       S    M    T   Normal     N\n"
     ]
    }
   ],
   "source": [
    "import numpy as np\n",
    "import pandas as pd\n",
    "from sklearn.preprocessing import LabelEncoder,OneHotEncoder\n",
    "\n",
    "data = pd.read_csv(\"PracticeDataSets/Dataset2.csv\")\n",
    "print(data)"
   ]
  },
  {
   "cell_type": "code",
   "execution_count": 27,
   "id": "47b5658c",
   "metadata": {},
   "outputs": [
    {
     "name": "stdout",
     "output_type": "stream",
     "text": [
      "\n",
      "\n",
      "Final Data :\n",
      "     O  R  S  C  H  M  F  T  High  Low  Normal Class\n",
      "0   0  1  0  0  1  0  1  0     0    0       1     N\n",
      "1   0  1  0  0  1  0  0  1     1    0       0     N\n",
      "2   1  0  0  0  1  0  1  0     0    0       1     Y\n",
      "3   0  0  1  0  0  1  1  0     0    0       1     N\n",
      "4   0  0  1  0  0  1  1  0     0    0       1     Y\n",
      "5   0  0  1  0  0  1  0  1     0    1       0     Y\n",
      "6   1  0  0  1  0  0  0  1     0    0       1     Y\n",
      "7   0  1  0  1  0  0  1  0     0    0       1     Y\n",
      "8   0  1  0  1  0  0  1  0     0    1       0     Y\n",
      "9   0  0  1  0  0  1  1  0     1    0       0     Y\n",
      "10  0  1  0  0  0  1  0  1     1    0       0     Y\n",
      "11  1  0  0  0  0  1  0  1     0    1       0     Y\n",
      "12  1  0  0  0  1  0  1  0     0    0       1     Y\n",
      "13  0  0  1  0  0  1  0  1     0    0       1     N\n"
     ]
    }
   ],
   "source": [
    "dummy_humidity = pd.get_dummies(data['Humidity'])\n",
    "data = data.drop(['Humidity'],axis=1)\n",
    "data = pd.concat([dummy_humidity,data],axis=1)\n",
    "\n",
    "dummy_wind = pd.get_dummies(data['Wind'])\n",
    "data = data.drop(['Wind'],axis=1)\n",
    "data = pd.concat([dummy_wind,data],axis=1)\n",
    "\n",
    "dummy_temp = pd.get_dummies(data['Temp'])\n",
    "data = data.drop(['Temp'],axis=1)\n",
    "data = pd.concat([dummy_temp,data],axis=1)\n",
    "\n",
    "dummy_outlook = pd.get_dummies(data['Outlook'])\n",
    "data = data.drop(['Outlook'],axis=1)\n",
    "data = pd.concat([dummy_outlook,data],axis=1)\n",
    "\n",
    "print(\"\\n\\nFinal Data :\\n\",data)"
   ]
  },
  {
   "cell_type": "code",
   "execution_count": 28,
   "id": "574215e0",
   "metadata": {},
   "outputs": [
    {
     "name": "stdout",
     "output_type": "stream",
     "text": [
      "\n",
      "\n",
      "Data : \n",
      "     O  R  S  C  H  M  F  T  High  Low  Normal\n",
      "0   0  1  0  0  1  0  1  0     0    0       1\n",
      "1   0  1  0  0  1  0  0  1     1    0       0\n",
      "2   1  0  0  0  1  0  1  0     0    0       1\n",
      "3   0  0  1  0  0  1  1  0     0    0       1\n",
      "4   0  0  1  0  0  1  1  0     0    0       1\n",
      "5   0  0  1  0  0  1  0  1     0    1       0\n",
      "6   1  0  0  1  0  0  0  1     0    0       1\n",
      "7   0  1  0  1  0  0  1  0     0    0       1\n",
      "8   0  1  0  1  0  0  1  0     0    1       0\n",
      "9   0  0  1  0  0  1  1  0     1    0       0\n",
      "10  0  1  0  0  0  1  0  1     1    0       0\n",
      "11  1  0  0  0  0  1  0  1     0    1       0\n",
      "12  1  0  0  0  1  0  1  0     0    0       1\n",
      "13  0  0  1  0  0  1  0  1     0    0       1\n",
      "\n",
      "\n",
      "Target: \n",
      " 0     N\n",
      "1     N\n",
      "2     Y\n",
      "3     N\n",
      "4     Y\n",
      "5     Y\n",
      "6     Y\n",
      "7     Y\n",
      "8     Y\n",
      "9     Y\n",
      "10    Y\n",
      "11    Y\n",
      "12    Y\n",
      "13    N\n",
      "Name: Class, dtype: object\n"
     ]
    }
   ],
   "source": [
    "X = data.iloc[:, :-1] \n",
    "\n",
    "Y = data.iloc[:, -1] \n",
    "\n",
    "\n",
    "print(\"\\n\\nData : \\n\", X) \n",
    "print(\"\\n\\nTarget: \\n\", Y) "
   ]
  },
  {
   "cell_type": "code",
   "execution_count": 29,
   "id": "08706356",
   "metadata": {},
   "outputs": [],
   "source": [
    "from sklearn.model_selection import train_test_split\n",
    "\n",
    "#split data set into train and test sets\n",
    "data_train, data_test, target_train, target_test = train_test_split(X,Y, test_size = 0.25, random_state = 80)"
   ]
  },
  {
   "cell_type": "code",
   "execution_count": 30,
   "id": "b2ab1ec6",
   "metadata": {},
   "outputs": [],
   "source": [
    "import numpy as np\n",
    "from sklearn.naive_bayes import GaussianNB\n",
    "\n",
    "gnb = GaussianNB()\n",
    "\n",
    "#Train the model using the training sets\n",
    "gnb.fit(data_train, target_train)\n",
    "\n",
    "#Predict the response for test dataset\n",
    "target_pred = gnb.predict(data_test)"
   ]
  },
  {
   "cell_type": "code",
   "execution_count": 31,
   "id": "1b651b11",
   "metadata": {},
   "outputs": [
    {
     "name": "stdout",
     "output_type": "stream",
     "text": [
      "Accuracy: 0.75\n"
     ]
    }
   ],
   "source": [
    "#Import scikit-learn metrics module for accuracy calculation\n",
    "from sklearn import metrics\n",
    "\n",
    "# Model Accuracy, how often is the classifier correct?\n",
    "print(\"Accuracy:\",metrics.accuracy_score(target_test, target_pred))"
   ]
  },
  {
   "cell_type": "code",
   "execution_count": 32,
   "id": "a5ad90a7",
   "metadata": {},
   "outputs": [
    {
     "data": {
      "text/plain": [
       "array([[1, 0],\n",
       "       [1, 2]])"
      ]
     },
     "execution_count": 32,
     "metadata": {},
     "output_type": "execute_result"
    }
   ],
   "source": [
    "#Import confusion_matrix from scikit-learn metrics module for confusion_matrix\n",
    "from sklearn.metrics import confusion_matrix\n",
    "confusion_matrix(target_test, target_pred)"
   ]
  },
  {
   "cell_type": "code",
   "execution_count": 33,
   "id": "4903d44e",
   "metadata": {},
   "outputs": [
    {
     "name": "stdout",
     "output_type": "stream",
     "text": [
      "precision: [0.5 1. ]\n",
      "recall: [1.         0.66666667]\n"
     ]
    }
   ],
   "source": [
    "from sklearn.metrics import precision_score\n",
    "from sklearn.metrics import recall_score\n",
    "\n",
    "precision = precision_score(target_test, target_pred, average=None)\n",
    "recall = recall_score(target_test, target_pred, average=None)\n",
    "\n",
    "print('precision: {}'.format(precision))\n",
    "print('recall: {}'.format(recall))"
   ]
  },
  {
   "cell_type": "code",
   "execution_count": 34,
   "id": "1b9f7b2b",
   "metadata": {},
   "outputs": [],
   "source": [
    "q1 = [0, 1, 0, 0, 0, 1, 1, 0, 0, 0, 1]\n",
    "q2 = [0, 0, 1, 1, 0, 0, 0, 1, 1, 0, 0]"
   ]
  },
  {
   "cell_type": "code",
   "execution_count": 35,
   "id": "1c656641",
   "metadata": {},
   "outputs": [
    {
     "name": "stdout",
     "output_type": "stream",
     "text": [
      "['O', 'R', 'S', 'C', 'H', 'M', 'F', 'T', 'High', 'Low', 'Normal']\n"
     ]
    },
    {
     "data": {
      "text/html": [
       "<div>\n",
       "<style scoped>\n",
       "    .dataframe tbody tr th:only-of-type {\n",
       "        vertical-align: middle;\n",
       "    }\n",
       "\n",
       "    .dataframe tbody tr th {\n",
       "        vertical-align: top;\n",
       "    }\n",
       "\n",
       "    .dataframe thead th {\n",
       "        text-align: right;\n",
       "    }\n",
       "</style>\n",
       "<table border=\"1\" class=\"dataframe\">\n",
       "  <thead>\n",
       "    <tr style=\"text-align: right;\">\n",
       "      <th></th>\n",
       "      <th>O</th>\n",
       "      <th>R</th>\n",
       "      <th>S</th>\n",
       "      <th>C</th>\n",
       "      <th>H</th>\n",
       "      <th>M</th>\n",
       "      <th>F</th>\n",
       "      <th>T</th>\n",
       "      <th>High</th>\n",
       "      <th>Low</th>\n",
       "      <th>Normal</th>\n",
       "    </tr>\n",
       "  </thead>\n",
       "  <tbody>\n",
       "    <tr>\n",
       "      <th>0</th>\n",
       "      <td>0</td>\n",
       "      <td>1</td>\n",
       "      <td>0</td>\n",
       "      <td>0</td>\n",
       "      <td>0</td>\n",
       "      <td>1</td>\n",
       "      <td>1</td>\n",
       "      <td>0</td>\n",
       "      <td>0</td>\n",
       "      <td>0</td>\n",
       "      <td>1</td>\n",
       "    </tr>\n",
       "    <tr>\n",
       "      <th>1</th>\n",
       "      <td>0</td>\n",
       "      <td>0</td>\n",
       "      <td>1</td>\n",
       "      <td>1</td>\n",
       "      <td>0</td>\n",
       "      <td>0</td>\n",
       "      <td>0</td>\n",
       "      <td>1</td>\n",
       "      <td>1</td>\n",
       "      <td>0</td>\n",
       "      <td>0</td>\n",
       "    </tr>\n",
       "  </tbody>\n",
       "</table>\n",
       "</div>"
      ],
      "text/plain": [
       "   O  R  S  C  H  M  F  T  High  Low  Normal\n",
       "0  0  1  0  0  0  1  1  0     0    0       1\n",
       "1  0  0  1  1  0  0  0  1     1    0       0"
      ]
     },
     "execution_count": 35,
     "metadata": {},
     "output_type": "execute_result"
    }
   ],
   "source": [
    "features = X.columns.tolist()\n",
    "print(features)\n",
    "df = pd.DataFrame([q1,q2], columns = features)\n",
    "df.head()"
   ]
  },
  {
   "cell_type": "code",
   "execution_count": 36,
   "id": "da034450",
   "metadata": {},
   "outputs": [
    {
     "name": "stdout",
     "output_type": "stream",
     "text": [
      "Class predicted:\n",
      "q1: N\n",
      "q2: Y\n"
     ]
    }
   ],
   "source": [
    "output = gnb.predict(df)\n",
    "print(\"Class predicted:\\nq1: {}\\nq2: {}\".format(output[0],output[1]))"
   ]
  },
  {
   "cell_type": "code",
   "execution_count": null,
   "id": "2f15051a",
   "metadata": {},
   "outputs": [],
   "source": []
  }
 ],
 "metadata": {
  "kernelspec": {
   "display_name": "Python 3",
   "language": "python",
   "name": "python3"
  },
  "language_info": {
   "codemirror_mode": {
    "name": "ipython",
    "version": 3
   },
   "file_extension": ".py",
   "mimetype": "text/x-python",
   "name": "python",
   "nbconvert_exporter": "python",
   "pygments_lexer": "ipython3",
   "version": "3.8.8"
  }
 },
 "nbformat": 4,
 "nbformat_minor": 5
}
