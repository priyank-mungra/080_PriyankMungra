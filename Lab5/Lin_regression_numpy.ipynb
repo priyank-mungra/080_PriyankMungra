{
  "nbformat": 4,
  "nbformat_minor": 2,
  "metadata": {
    "colab": {
      "name": "Linear_regression_numpy.ipynb",
      "provenance": [],
      "collapsed_sections": []
    },
    "kernelspec": {
      "display_name": "Python 3",
      "language": "python",
      "name": "python3"
    },
    "language_info": {
      "codemirror_mode": {
        "name": "ipython",
        "version": 3
      },
      "file_extension": ".py",
      "mimetype": "text/x-python",
      "name": "python",
      "nbconvert_exporter": "python",
      "pygments_lexer": "ipython3",
      "version": "3.6.9"
    }
  },
  "cells": [
    {
      "cell_type": "code",
      "execution_count": 17,
      "source": [
        "import numpy as np"
      ],
      "outputs": [],
      "metadata": {
        "_cell_guid": "79c7e3d0-c299-4dcb-8224-4455121ee9b0",
        "_uuid": "d629ff2d2480ee46fbb7e2d37f6b5fab8052498a",
        "id": "v0BtAX1--7l_"
      }
    },
    {
      "cell_type": "markdown",
      "source": [
        "## Training Data"
      ],
      "metadata": {
        "id": "Y8QfhGaoBV7S"
      }
    },
    {
      "cell_type": "code",
      "execution_count": 18,
      "source": [
        "# Input (temp, rainfall, humidity)\n",
        "inputs = np.array([[73, 67, 43], [91, 88, 64], [87, 134, 58], [102, 43, 37], [69, 96, 70], [73, 67, 43], [91, 88, 64], [87, 134, 58], [102, 43, 37], [69, 96, 70], [73, 67, 43], [91, 88, 64], [87, 134, 58], [102, 43, 37], [69, 96, 70]], dtype='float32')\n",
        "# Targets (apples, oranges)\n",
        "targets = np.array([[56, 70], [81, 101], [119, 133], [22, 37], [103, 119], \n",
        "                    [56, 70], [81, 101], [119, 133], [22, 37], [103, 119], \n",
        "                    [56, 70], [81, 101], [119, 133], [22, 37], [103, 119]], dtype='float32')\n",
        "\n",
        "x_shape = inputs.shape"
      ],
      "outputs": [],
      "metadata": {
        "_uuid": "74bb18bd01ac809079eeb8d05695206e8ba02069",
        "id": "wCsxgTWO-7uM"
      }
    },
    {
      "cell_type": "code",
      "execution_count": 19,
      "source": [
        "# weights and biases\n",
        "weights = np.random.rand(2,3)\n",
        "biases = np.random.rand(15,2)\n",
        "print(weights)\n",
        "print(biases)"
      ],
      "outputs": [
        {
          "output_type": "stream",
          "name": "stdout",
          "text": [
            "[[0.12681175 0.41239176 0.18767353]\n",
            " [0.40309149 0.6357669  0.77966749]]\n",
            "[[0.57377739 0.62395873]\n",
            " [0.08532309 0.61141821]\n",
            " [0.23027467 0.15709618]\n",
            " [0.23192968 0.10731081]\n",
            " [0.0398175  0.48587399]\n",
            " [0.36994667 0.06311568]\n",
            " [0.26854864 0.29984765]\n",
            " [0.85482593 0.14092623]\n",
            " [0.03000705 0.47195841]\n",
            " [0.18100488 0.83166247]\n",
            " [0.45293735 0.73095578]\n",
            " [0.13247876 0.64571766]\n",
            " [0.22800662 0.13757452]\n",
            " [0.98772722 0.86714388]\n",
            " [0.73169109 0.29564269]]\n"
          ]
        }
      ],
      "metadata": {
        "colab": {
          "base_uri": "https://localhost:8080/"
        },
        "id": "rVkJxSLpBV7W",
        "outputId": "a5c394f3-9fb3-40c3-b6c1-cd9523ba538d"
      }
    },
    {
      "cell_type": "code",
      "execution_count": 20,
      "source": [
        "# Define the model\n",
        "def model(x):\n",
        "    return x @ np.transpose(weights) + biases"
      ],
      "outputs": [],
      "metadata": {
        "id": "JBs9-nJfBV7Z"
      }
    },
    {
      "cell_type": "code",
      "execution_count": 21,
      "source": [
        "# Generate predictions\n",
        "preds = model(inputs)\n"
      ],
      "outputs": [],
      "metadata": {
        "id": "nVj7MKw7BV7a"
      }
    },
    {
      "cell_type": "code",
      "execution_count": 22,
      "source": [
        "# Compare with targets\n",
        "print(\"Predictions : \", preds)\n",
        "print(\"Targets : \",targets)"
      ],
      "outputs": [
        {
          "output_type": "stream",
          "name": "stdout",
          "text": [
            "Predictions :  [[ 45.53124436 106.17172191]\n",
            " [ 59.92677251 143.13895041]\n",
            " [ 77.40845676 165.63953508]\n",
            " [ 37.84349394  97.40831652]\n",
            " [ 61.51658372 143.90953361]\n",
            " [ 45.32741364 105.61087886]\n",
            " [ 60.10999805 142.82737985]\n",
            " [ 78.03300802 165.62336513]\n",
            " [ 37.64157131  97.77296411]\n",
            " [ 61.6577711  144.2553221 ]\n",
            " [ 45.41040432 106.27871896]\n",
            " [ 59.97392817 143.17324986]\n",
            " [ 77.40618871 165.62001343]\n",
            " [ 38.59929148  98.16814959]\n",
            " [ 62.20845732 143.71930231]]\n",
            "Targets :  [[ 56.  70.]\n",
            " [ 81. 101.]\n",
            " [119. 133.]\n",
            " [ 22.  37.]\n",
            " [103. 119.]\n",
            " [ 56.  70.]\n",
            " [ 81. 101.]\n",
            " [119. 133.]\n",
            " [ 22.  37.]\n",
            " [103. 119.]\n",
            " [ 56.  70.]\n",
            " [ 81. 101.]\n",
            " [119. 133.]\n",
            " [ 22.  37.]\n",
            " [103. 119.]]\n"
          ]
        }
      ],
      "metadata": {
        "colab": {
          "base_uri": "https://localhost:8080/"
        },
        "id": "EjIBBBEnBV7b",
        "outputId": "00864b4e-e074-4e33-9792-b26a45230184"
      }
    },
    {
      "cell_type": "markdown",
      "source": [
        "## Loss function"
      ],
      "metadata": {
        "id": "jaLPXrKRBV7c"
      }
    },
    {
      "cell_type": "code",
      "execution_count": 23,
      "source": [
        "# MSE loss\n",
        "def mse(t1, t2):\n",
        "    diff = t1 - t2\n",
        "    return np.sum(diff * diff) / len(diff)"
      ],
      "outputs": [],
      "metadata": {
        "id": "1ZTJSdI3BV7c"
      }
    },
    {
      "cell_type": "code",
      "execution_count": 24,
      "source": [
        "# Compute loss\n",
        "loss = mse(preds, targets)\n",
        "print(loss)"
      ],
      "outputs": [
        {
          "output_type": "stream",
          "name": "stdout",
          "text": [
            "2533.6803276309874\n"
          ]
        }
      ],
      "metadata": {
        "colab": {
          "base_uri": "https://localhost:8080/"
        },
        "id": "YWz8FIWWBV7d",
        "outputId": "b6c9579a-2f71-4a95-c8aa-f52fb3c0d3c7"
      }
    },
    {
      "cell_type": "markdown",
      "source": [
        "## Compute Gradient"
      ],
      "metadata": {
        "id": "wg1Sf82CBV7e"
      }
    },
    {
      "cell_type": "code",
      "execution_count": 25,
      "source": [
        "# compute gradients\n",
        "biases_grad = (preds-targets)*2/x_shape[0]\n",
        "weights_grad = (np.matmul(np.transpose((preds-targets)),inputs))*2/x_shape[0]\n",
        "\n",
        "print(weights_grad)\n",
        "print(biases_grad)"
      ],
      "outputs": [
        {
          "output_type": "stream",
          "name": "stdout",
          "text": [
            "[[-2996.61607833 -4547.34246172 -2596.08848661]\n",
            " [ 6886.61872043  6198.21420928  4051.41317956]]\n",
            "[[-1.39583409  4.82289625]\n",
            " [-2.80976367  5.61852672]\n",
            " [-5.5455391   4.35193801]\n",
            " [ 2.11246586  8.0544422 ]\n",
            " [-5.53112217  3.32127115]\n",
            " [-1.42301151  4.74811718]\n",
            " [-2.78533359  5.57698398]\n",
            " [-5.4622656   4.34978202]\n",
            " [ 2.08554284  8.10306188]\n",
            " [-5.51229719  3.36737628]\n",
            " [-1.41194609  4.83716253]\n",
            " [-2.80347624  5.62309998]\n",
            " [-5.54584151  4.34933512]\n",
            " [ 2.21323886  8.15575328]\n",
            " [-5.43887236  3.29590698]]\n"
          ]
        }
      ],
      "metadata": {
        "colab": {
          "base_uri": "https://localhost:8080/"
        },
        "id": "4BydECl3BV7f",
        "outputId": "757286d7-aaba-43ee-b329-13ec20c00384"
      }
    },
    {
      "cell_type": "markdown",
      "source": [
        "## Adjust weights"
      ],
      "metadata": {
        "id": "7nQ2y2ypBV7g"
      }
    },
    {
      "cell_type": "code",
      "execution_count": 26,
      "source": [
        "# Adjust weights\n",
        "weights -= weights_grad * 1e-5\n",
        "biases -= biases_grad * 1e-5"
      ],
      "outputs": [],
      "metadata": {
        "id": "Bh1AgzsxBV7g"
      }
    },
    {
      "cell_type": "code",
      "execution_count": 27,
      "source": [
        "print(weights)\n",
        "print(biases)"
      ],
      "outputs": [
        {
          "output_type": "stream",
          "name": "stdout",
          "text": [
            "[[0.15677791 0.45786518 0.21363441]\n",
            " [0.3342253  0.57378476 0.73915336]]\n",
            "[[0.57379135 0.6239105 ]\n",
            " [0.08535119 0.61136202]\n",
            " [0.23033013 0.15705266]\n",
            " [0.23190855 0.10723027]\n",
            " [0.03987281 0.48584078]\n",
            " [0.3699609  0.0630682 ]\n",
            " [0.26857649 0.29979188]\n",
            " [0.85488056 0.14088273]\n",
            " [0.02998619 0.47187738]\n",
            " [0.18106    0.8316288 ]\n",
            " [0.45295147 0.73090741]\n",
            " [0.13250679 0.64566143]\n",
            " [0.22806208 0.13753103]\n",
            " [0.98770508 0.86706232]\n",
            " [0.73174548 0.29560973]]\n"
          ]
        }
      ],
      "metadata": {
        "colab": {
          "base_uri": "https://localhost:8080/"
        },
        "id": "ocmbB7xpBV7g",
        "outputId": "f05a7d89-7846-4790-d8be-7da117828d04"
      }
    },
    {
      "cell_type": "code",
      "execution_count": 28,
      "source": [
        "# Calculate loss\n",
        "preds = model(inputs)\n",
        "loss = mse(preds, targets)\n",
        "print(loss)"
      ],
      "outputs": [
        {
          "output_type": "stream",
          "name": "stdout",
          "text": [
            "1392.8043632150127\n"
          ]
        }
      ],
      "metadata": {
        "colab": {
          "base_uri": "https://localhost:8080/"
        },
        "id": "cESV7PYbBV7h",
        "outputId": "e944a7aa-b025-432f-d602-662c9f0c364c"
      }
    },
    {
      "cell_type": "code",
      "execution_count": 29,
      "source": [
        "for i in range(200):\n",
        "    preds = model(inputs)\n",
        "    loss = mse(preds, targets)\n",
        "    \n",
        "    biases_grad = ((((inputs@np.transpose(weights))+biases)-targets))*2/x_shape[0]\n",
        "    weights_grad = (np.matmul(np.transpose((((inputs@np.transpose(weights))+biases)-targets)),inputs))*2/x_shape[0]\n",
        "\n",
        "    weights -= weights_grad * 1e-5\n",
        "    biases -= biases_grad * 1e-5"
      ],
      "outputs": [],
      "metadata": {
        "id": "oLtnmbqVBV7h"
      }
    },
    {
      "cell_type": "code",
      "execution_count": 30,
      "source": [
        "# Calculate loss\n",
        "preds = model(inputs)\n",
        "loss = mse(preds, targets)\n",
        "print(loss)"
      ],
      "outputs": [
        {
          "output_type": "stream",
          "name": "stdout",
          "text": [
            "14.172238156271673\n"
          ]
        }
      ],
      "metadata": {
        "colab": {
          "base_uri": "https://localhost:8080/"
        },
        "id": "1JmUNGGtBV7i",
        "outputId": "6b039343-22e5-4e56-8e5e-06c94d5782e3"
      }
    },
    {
      "cell_type": "code",
      "execution_count": 31,
      "source": [
        "# Print predictions\n",
        "print(preds)"
      ],
      "outputs": [
        {
          "output_type": "stream",
          "name": "stdout",
          "text": [
            "[[ 58.10690576  71.08183444]\n",
            " [ 80.32620785 100.08229547]\n",
            " [121.07041873 133.58168895]\n",
            " [ 24.60658136  39.46292946]\n",
            " [ 96.74449888 116.31789167]\n",
            " [ 57.90312967  70.52114168]\n",
            " [ 80.5093843   99.7708084 ]\n",
            " [121.69480263 133.56552334]\n",
            " [ 24.40471284  39.82747935]\n",
            " [ 96.88564843 116.6635875 ]\n",
            " [ 57.9860981   71.18880282]\n",
            " [ 80.37335088 100.11658573]\n",
            " [121.06815128 133.56217253]\n",
            " [ 25.36217637  40.22255892]\n",
            " [ 97.43618708 116.12771135]]\n"
          ]
        }
      ],
      "metadata": {
        "colab": {
          "base_uri": "https://localhost:8080/"
        },
        "id": "5OZ5Ksp3BV7i",
        "outputId": "a0d53f4e-f080-4429-b789-f8951f0dcdba"
      }
    },
    {
      "cell_type": "code",
      "execution_count": 32,
      "source": [
        "# Print targets\n",
        "print(targets)"
      ],
      "outputs": [
        {
          "output_type": "stream",
          "name": "stdout",
          "text": [
            "[[ 56.  70.]\n",
            " [ 81. 101.]\n",
            " [119. 133.]\n",
            " [ 22.  37.]\n",
            " [103. 119.]\n",
            " [ 56.  70.]\n",
            " [ 81. 101.]\n",
            " [119. 133.]\n",
            " [ 22.  37.]\n",
            " [103. 119.]\n",
            " [ 56.  70.]\n",
            " [ 81. 101.]\n",
            " [119. 133.]\n",
            " [ 22.  37.]\n",
            " [103. 119.]]\n"
          ]
        }
      ],
      "metadata": {
        "colab": {
          "base_uri": "https://localhost:8080/"
        },
        "id": "dwUr4O3uBV7j",
        "outputId": "54a7b6f6-2226-43b3-98c2-57e1f9d44ed8"
      }
    },
    {
      "cell_type": "code",
      "execution_count": 32,
      "source": [],
      "outputs": [],
      "metadata": {
        "id": "iCSWq0jWBV7j"
      }
    }
  ]
}