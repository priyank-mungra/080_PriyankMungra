{
  "nbformat": 4,
  "nbformat_minor": 0,
  "metadata": {
    "colab": {
      "name": "0_logistic_regression.ipynb",
      "provenance": [],
      "collapsed_sections": []
    },
    "kernelspec": {
      "display_name": "Python 3",
      "language": "python",
      "name": "python3"
    },
    "language_info": {
      "codemirror_mode": {
        "name": "ipython",
        "version": 3
      },
      "file_extension": ".py",
      "mimetype": "text/x-python",
      "name": "python",
      "nbconvert_exporter": "python",
      "pygments_lexer": "ipython3",
      "version": "3.6.9"
    }
  },
  "cells": [
    {
      "cell_type": "code",
      "metadata": {
        "_cell_guid": "b1076dfc-b9ad-4769-8c92-a6c4dae69d19",
        "_uuid": "8f2839f25d086af736a60e9eeb907d3b93b6e0e5",
        "id": "hfV503AtcBDp"
      },
      "source": [
        "#Importing libraries\n",
        "import numpy as np \n",
        "import pandas as pd \n",
        "import io\n",
        "import matplotlib.pyplot as plt"
      ],
      "execution_count": 49,
      "outputs": []
    },
    {
      "cell_type": "code",
      "metadata": {
        "colab": {
          "base_uri": "https://localhost:8080/"
        },
        "id": "t_pu0aFjIt5k",
        "outputId": "c35dbaa9-87fd-4631-b98e-8801a1c59bd4"
      },
      "source": [
        "from google.colab import drive\n",
        "drive.mount('/content/drive')"
      ],
      "execution_count": 50,
      "outputs": [
        {
          "output_type": "stream",
          "name": "stdout",
          "text": [
            "Drive already mounted at /content/drive; to attempt to forcibly remount, call drive.mount(\"/content/drive\", force_remount=True).\n"
          ]
        }
      ]
    },
    {
      "cell_type": "code",
      "metadata": {
        "_cell_guid": "79c7e3d0-c299-4dcb-8224-4455121ee9b0",
        "_uuid": "d629ff2d2480ee46fbb7e2d37f6b5fab8052498a",
        "colab": {
          "base_uri": "https://localhost:8080/",
          "height": 206
        },
        "id": "Y4rK9ffYcBEP",
        "outputId": "9728352e-6043-470a-ae1d-24233d993b89"
      },
      "source": [
        "# reading the csv file, del 2 columns from the file, checking first few rows of the file\n",
        "from google.colab import files\n",
        "# uploaded = files.upload()\n",
        "\n",
        "data = pd.read_csv('/content/drive/MyDrive/Colab Notebooks/Lab6/BuyComputer.csv')\n",
        "\n",
        "data.drop(columns=['User ID',],axis=1,inplace=True)\n",
        "data.head()"
      ],
      "execution_count": 51,
      "outputs": [
        {
          "output_type": "execute_result",
          "data": {
            "text/html": [
              "<div>\n",
              "<style scoped>\n",
              "    .dataframe tbody tr th:only-of-type {\n",
              "        vertical-align: middle;\n",
              "    }\n",
              "\n",
              "    .dataframe tbody tr th {\n",
              "        vertical-align: top;\n",
              "    }\n",
              "\n",
              "    .dataframe thead th {\n",
              "        text-align: right;\n",
              "    }\n",
              "</style>\n",
              "<table border=\"1\" class=\"dataframe\">\n",
              "  <thead>\n",
              "    <tr style=\"text-align: right;\">\n",
              "      <th></th>\n",
              "      <th>Age</th>\n",
              "      <th>EstimatedSalary</th>\n",
              "      <th>Purchased</th>\n",
              "    </tr>\n",
              "  </thead>\n",
              "  <tbody>\n",
              "    <tr>\n",
              "      <th>0</th>\n",
              "      <td>19</td>\n",
              "      <td>19000</td>\n",
              "      <td>0</td>\n",
              "    </tr>\n",
              "    <tr>\n",
              "      <th>1</th>\n",
              "      <td>35</td>\n",
              "      <td>20000</td>\n",
              "      <td>0</td>\n",
              "    </tr>\n",
              "    <tr>\n",
              "      <th>2</th>\n",
              "      <td>26</td>\n",
              "      <td>43000</td>\n",
              "      <td>0</td>\n",
              "    </tr>\n",
              "    <tr>\n",
              "      <th>3</th>\n",
              "      <td>27</td>\n",
              "      <td>57000</td>\n",
              "      <td>0</td>\n",
              "    </tr>\n",
              "    <tr>\n",
              "      <th>4</th>\n",
              "      <td>19</td>\n",
              "      <td>76000</td>\n",
              "      <td>0</td>\n",
              "    </tr>\n",
              "  </tbody>\n",
              "</table>\n",
              "</div>"
            ],
            "text/plain": [
              "   Age  EstimatedSalary  Purchased\n",
              "0   19            19000          0\n",
              "1   35            20000          0\n",
              "2   26            43000          0\n",
              "3   27            57000          0\n",
              "4   19            76000          0"
            ]
          },
          "metadata": {},
          "execution_count": 51
        }
      ]
    },
    {
      "cell_type": "code",
      "metadata": {
        "_uuid": "4cb45e28344e7e245ab398e9f4f5272ef21d2129",
        "id": "jwuPgU6_cBE8"
      },
      "source": [
        "#Declare label as last column in the source file\n",
        "Y = data.iloc[:,-1].values"
      ],
      "execution_count": 52,
      "outputs": []
    },
    {
      "cell_type": "code",
      "metadata": {
        "_uuid": "2e7a145fa49435ad9578ec2827f76a70cc99f2e1",
        "id": "2lhBrOp8cBFX"
      },
      "source": [
        "#Declaring X as all columns excluding last\n",
        "X = data.iloc[:,:-1].values\n"
      ],
      "execution_count": 53,
      "outputs": []
    },
    {
      "cell_type": "code",
      "metadata": {
        "_uuid": "dffb1f3e19e19964995ac827bf55108b5815ff67",
        "id": "t8nwbTn6cBFp"
      },
      "source": [
        "# Splitting data\n",
        "from sklearn.model_selection import train_test_split\n",
        "X_train, X_test, y_train, y_test = train_test_split(X, Y, test_size = 0.3, random_state = 80 )"
      ],
      "execution_count": 54,
      "outputs": []
    },
    {
      "cell_type": "code",
      "metadata": {
        "_uuid": "7d4ed14782e114ae3282f20d3754121398e6d232",
        "id": "U4bUiVVFcBGD"
      },
      "source": [
        "# Scaling data\n",
        "from sklearn.preprocessing import StandardScaler\n",
        "sc = StandardScaler()\n",
        "X_train = sc.fit_transform(X_train)\n",
        "X_test = sc.transform(X_test)"
      ],
      "execution_count": 55,
      "outputs": []
    },
    {
      "cell_type": "code",
      "metadata": {
        "_uuid": "2ff7415e3e0e0673d59051cfe6154c63d3312a32",
        "id": "W5yGgzqbcBGc",
        "colab": {
          "base_uri": "https://localhost:8080/"
        },
        "outputId": "206087da-11f2-42f7-ab26-ed5bdfbda25f"
      },
      "source": [
        "#Variabes to calculate sigmoid function\n",
        "y_pred = []\n",
        "len_x = len(X_train[0])\n",
        "w = []\n",
        "b = 0.2\n",
        "print(len_x)"
      ],
      "execution_count": 56,
      "outputs": [
        {
          "output_type": "stream",
          "name": "stdout",
          "text": [
            "2\n"
          ]
        }
      ]
    },
    {
      "cell_type": "code",
      "metadata": {
        "_uuid": "a228174207f4631be4f26a0cc05e379f3f58aa56",
        "id": "ZbqwTM0bcBGr",
        "colab": {
          "base_uri": "https://localhost:8080/"
        },
        "outputId": "265ed269-9fe6-40f2-897b-a7d1a3764873"
      },
      "source": [
        "entries = len(X_train[:,0])\n",
        "entries"
      ],
      "execution_count": 57,
      "outputs": [
        {
          "output_type": "execute_result",
          "data": {
            "text/plain": [
              "280"
            ]
          },
          "metadata": {},
          "execution_count": 57
        }
      ]
    },
    {
      "cell_type": "code",
      "metadata": {
        "_uuid": "5d4d6e47ee65c9c7404e60fcf8f05c11708546b3",
        "id": "vEV7Nn73cBG7",
        "colab": {
          "base_uri": "https://localhost:8080/"
        },
        "outputId": "af18f8e3-438d-423a-e3e5-e7845f75eba5"
      },
      "source": [
        "for weights in range(len_x):\n",
        "    w.append(0)\n",
        "w"
      ],
      "execution_count": 58,
      "outputs": [
        {
          "output_type": "execute_result",
          "data": {
            "text/plain": [
              "[0, 0]"
            ]
          },
          "metadata": {},
          "execution_count": 58
        }
      ]
    },
    {
      "cell_type": "code",
      "metadata": {
        "_uuid": "18dbd2196d72527a82d30ab88ed2aa8d10bd01ce",
        "id": "_fAtpylNcBHM"
      },
      "source": [
        "# Sigmoid function\n",
        "def sigmoid(z):\n",
        "  res = (1/(1+np.exp(-z)))\n",
        "  return res"
      ],
      "execution_count": 59,
      "outputs": []
    },
    {
      "cell_type": "code",
      "metadata": {
        "_uuid": "daa0f87fdbf98591cb9f51b8dc7157dc399ca827",
        "id": "kfchkScTcBHd"
      },
      "source": [
        "def predict(inputs):\n",
        "    res = sigmoid(np.dot(w,inputs)+b)\n",
        "    return res"
      ],
      "execution_count": 60,
      "outputs": []
    },
    {
      "cell_type": "code",
      "metadata": {
        "_uuid": "4126f842d072ccd40019cc283b767a014e2ee074",
        "id": "K2ryTgglcBHt"
      },
      "source": [
        "#Loss function\n",
        "def loss_func(y,a):\n",
        "    J = -(y*np.log(a) + (1-y)*np.log(1-a))\n",
        "    return J       "
      ],
      "execution_count": 61,
      "outputs": []
    },
    {
      "cell_type": "code",
      "metadata": {
        "_uuid": "fc0ceb65c69f4ee0c3f28e050744229dc90c621b",
        "id": "1KW3eDpmcBIA"
      },
      "source": [
        "dw = []\n",
        "db = 0\n",
        "J = 0\n",
        "alpha = 0.01\n",
        "for x in range(len_x):\n",
        "    dw.append(0)"
      ],
      "execution_count": 62,
      "outputs": []
    },
    {
      "cell_type": "code",
      "metadata": {
        "_uuid": "e4be38e9b500ae0c5a7134296a3055675c4fb2d8",
        "id": "ipqdFLP3cBIO"
      },
      "source": [
        "#Repeating the process 3000 times\n",
        "for iterations in range(3000):\n",
        "    for i in range(entries):\n",
        "        tmp = X_train[i]\n",
        "        a = predict(tmp)   \n",
        "        dz = a - y_train[i]\n",
        "        J += loss_func(y_train[i],a)\n",
        "        for j in range(len_x):\n",
        "            dw[j] = dw[j]+(tmp[j]*dz)\n",
        "        db += dz\n",
        "    J = J/entries\n",
        "    db = db/entries\n",
        "    for x in range(len_x):\n",
        "        dw[x]=dw[x]/entries\n",
        "    for x in range(len_x):\n",
        "        w[x] = w[x]-(alpha*dw[x])\n",
        "    b = b-(alpha*db)         \n",
        "    J=0"
      ],
      "execution_count": 41,
      "outputs": []
    },
    {
      "cell_type": "code",
      "metadata": {
        "_uuid": "5479ccb6073ed1ea310ef7de01b2935fc3ec400e",
        "id": "7Q585AdrcBIs",
        "colab": {
          "base_uri": "https://localhost:8080/"
        },
        "outputId": "cbf4ab4a-280a-4cd6-9b6e-dec23d71d362"
      },
      "source": [
        "#Print weight\n",
        "print(w)"
      ],
      "execution_count": 42,
      "outputs": [
        {
          "output_type": "stream",
          "name": "stdout",
          "text": [
            "[1.9136095467866936, 1.0079322297294202]\n"
          ]
        }
      ]
    },
    {
      "cell_type": "code",
      "metadata": {
        "_uuid": "a939c247b8a092f74c9843975612daa85c423621",
        "id": "rEiF-bNHcBJB",
        "colab": {
          "base_uri": "https://localhost:8080/"
        },
        "outputId": "2b5b253c-6961-4f2d-c705-6dac444c5f2b"
      },
      "source": [
        "#print bias\n",
        "print(b)"
      ],
      "execution_count": 43,
      "outputs": [
        {
          "output_type": "stream",
          "name": "stdout",
          "text": [
            "-0.8927600735612063\n"
          ]
        }
      ]
    },
    {
      "cell_type": "code",
      "metadata": {
        "_uuid": "b7ae24169a21c7ac8ea0787f4a38a0de3e07a6b5",
        "id": "MPt5nUcpcBJR"
      },
      "source": [
        "#predicting the label\n",
        "for x in range(len(y_test)):\n",
        "    y_pred.append(predict(X_test[x]))"
      ],
      "execution_count": 44,
      "outputs": []
    },
    {
      "cell_type": "code",
      "metadata": {
        "_uuid": "967ad1b72305ad792a5d50e4d8b8a07632f7b241",
        "id": "79HPPz7jcBJg",
        "scrolled": false,
        "colab": {
          "base_uri": "https://localhost:8080/"
        },
        "outputId": "162f16a1-7eec-4633-aa89-0ce28dc45c51"
      },
      "source": [
        "#print actual and predicted values in a table\n",
        "for x in range(len(y_pred)):\n",
        "    print('Actual ',y_test[x],' Predicted ',y_pred[x])\n",
        "    if y_pred[x]>=0.5:\n",
        "        y_pred[x]=1\n",
        "    else:\n",
        "        y_pred[x]=0"
      ],
      "execution_count": 45,
      "outputs": [
        {
          "output_type": "stream",
          "name": "stdout",
          "text": [
            "Actual  0  Predicted  0.4131851954317564\n",
            "Actual  0  Predicted  0.022917939834832833\n",
            "Actual  1  Predicted  0.43938065126486653\n",
            "Actual  1  Predicted  0.8588436142152426\n",
            "Actual  0  Predicted  0.17484065409823565\n",
            "Actual  0  Predicted  0.008874000511384277\n",
            "Actual  0  Predicted  0.2935306113950054\n",
            "Actual  0  Predicted  0.08736887402475209\n",
            "Actual  0  Predicted  0.0038179275056838473\n",
            "Actual  0  Predicted  0.06632513615196502\n",
            "Actual  1  Predicted  0.7372465450178596\n",
            "Actual  1  Predicted  0.8906654499017825\n",
            "Actual  1  Predicted  0.5909515658747115\n",
            "Actual  1  Predicted  0.8970279003978301\n",
            "Actual  0  Predicted  0.022800774195613212\n",
            "Actual  0  Predicted  0.7799159405234884\n",
            "Actual  0  Predicted  0.05523976789023553\n",
            "Actual  0  Predicted  0.013651838293765907\n",
            "Actual  1  Predicted  0.44250322266133224\n",
            "Actual  0  Predicted  0.28157438046355926\n",
            "Actual  0  Predicted  0.13222492027699617\n",
            "Actual  1  Predicted  0.2517853103445176\n",
            "Actual  0  Predicted  0.4197485295724247\n",
            "Actual  1  Predicted  0.10879351128424473\n",
            "Actual  0  Predicted  0.7093678541418869\n",
            "Actual  1  Predicted  0.505288394545617\n",
            "Actual  0  Predicted  0.13906703669094514\n",
            "Actual  0  Predicted  0.3315863546074432\n",
            "Actual  1  Predicted  0.25507927138868\n",
            "Actual  0  Predicted  0.08684970901782897\n",
            "Actual  0  Predicted  0.022416075507328822\n",
            "Actual  0  Predicted  0.24794694042056864\n",
            "Actual  0  Predicted  0.0589670484734634\n",
            "Actual  0  Predicted  0.4236812994842026\n",
            "Actual  0  Predicted  0.4202786605460286\n",
            "Actual  0  Predicted  0.3306224032780619\n",
            "Actual  0  Predicted  0.10620245755168926\n",
            "Actual  0  Predicted  0.47395218046289356\n",
            "Actual  1  Predicted  0.5888457038689937\n",
            "Actual  1  Predicted  0.4455061502898618\n",
            "Actual  0  Predicted  0.05650245541834704\n",
            "Actual  1  Predicted  0.8507914714029886\n",
            "Actual  1  Predicted  0.7266498279969286\n",
            "Actual  0  Predicted  0.01311116720749505\n",
            "Actual  0  Predicted  0.2577390628629471\n",
            "Actual  0  Predicted  0.15016175675767363\n",
            "Actual  1  Predicted  0.5036563643391512\n",
            "Actual  0  Predicted  0.3306224032780619\n",
            "Actual  0  Predicted  0.2926288575117425\n",
            "Actual  0  Predicted  0.04830016993858863\n",
            "Actual  0  Predicted  0.05969578330712232\n",
            "Actual  1  Predicted  0.5322513328406036\n",
            "Actual  1  Predicted  0.4092806639166907\n",
            "Actual  0  Predicted  0.018232997342031848\n",
            "Actual  1  Predicted  0.5941040892772431\n",
            "Actual  1  Predicted  0.3275423765522008\n",
            "Actual  0  Predicted  0.01798495061713059\n",
            "Actual  0  Predicted  0.1064092087140919\n",
            "Actual  0  Predicted  0.09836655366592084\n",
            "Actual  0  Predicted  0.17484065409823565\n",
            "Actual  0  Predicted  0.03871258262598642\n",
            "Actual  0  Predicted  0.23486938633768228\n",
            "Actual  1  Predicted  0.6833157917676365\n",
            "Actual  0  Predicted  0.11546935437226956\n",
            "Actual  1  Predicted  0.9334645131072058\n",
            "Actual  0  Predicted  0.0033012700320230923\n",
            "Actual  0  Predicted  0.0041748440244761265\n",
            "Actual  0  Predicted  0.1754694745844151\n",
            "Actual  0  Predicted  0.28201481698898506\n",
            "Actual  1  Predicted  0.2427092717667911\n",
            "Actual  0  Predicted  0.4066525649815548\n",
            "Actual  0  Predicted  0.10765717457596362\n",
            "Actual  0  Predicted  0.5222652187050756\n",
            "Actual  0  Predicted  0.0824955773707977\n",
            "Actual  0  Predicted  0.06178394952691526\n",
            "Actual  0  Predicted  0.11636141643875178\n",
            "Actual  0  Predicted  0.28157438046355926\n",
            "Actual  0  Predicted  0.05007191838295611\n",
            "Actual  1  Predicted  0.3417042634106081\n",
            "Actual  1  Predicted  0.9449701654559861\n",
            "Actual  1  Predicted  0.9836539548845035\n",
            "Actual  0  Predicted  0.30577844568127455\n",
            "Actual  1  Predicted  0.27788676471650375\n",
            "Actual  0  Predicted  0.1536409415808\n",
            "Actual  1  Predicted  0.9736802017919002\n",
            "Actual  0  Predicted  0.5149795198365448\n",
            "Actual  1  Predicted  0.3813846901592687\n",
            "Actual  0  Predicted  0.1428643596761021\n",
            "Actual  1  Predicted  0.583878758853546\n",
            "Actual  0  Predicted  0.00667160072951027\n",
            "Actual  0  Predicted  0.02029638178367788\n",
            "Actual  0  Predicted  0.08151264216044825\n",
            "Actual  1  Predicted  0.42399466362353155\n",
            "Actual  1  Predicted  0.5222652187050756\n",
            "Actual  0  Predicted  0.050949685798792124\n",
            "Actual  1  Predicted  0.24974097078160015\n",
            "Actual  0  Predicted  0.29019762268783855\n",
            "Actual  1  Predicted  0.6241711674730257\n",
            "Actual  0  Predicted  0.21038877843067275\n",
            "Actual  0  Predicted  0.5462117573512669\n",
            "Actual  0  Predicted  0.04635560303330819\n",
            "Actual  0  Predicted  0.039980086459224524\n",
            "Actual  0  Predicted  0.14988425419967047\n",
            "Actual  0  Predicted  0.005138431711452133\n",
            "Actual  0  Predicted  0.34978231673343757\n",
            "Actual  1  Predicted  0.416883581467249\n",
            "Actual  1  Predicted  0.9665389916816702\n",
            "Actual  1  Predicted  0.9393233014829057\n",
            "Actual  1  Predicted  0.3152877346510387\n",
            "Actual  1  Predicted  0.7984550687112014\n",
            "Actual  0  Predicted  0.3534588682206603\n",
            "Actual  0  Predicted  0.21454356279619036\n",
            "Actual  0  Predicted  0.029510178961354185\n",
            "Actual  0  Predicted  0.021217208723577952\n",
            "Actual  0  Predicted  0.018271993691885518\n",
            "Actual  0  Predicted  0.3311042017908387\n",
            "Actual  0  Predicted  0.12567029859770407\n",
            "Actual  0  Predicted  0.36741423660024203\n",
            "Actual  1  Predicted  0.5176968789570885\n",
            "Actual  1  Predicted  0.7680282888627242\n"
          ]
        }
      ]
    },
    {
      "cell_type": "code",
      "metadata": {
        "_uuid": "a59807150900082ab876ef0200c6c7f8f93e098c",
        "id": "sdZDj_iVcBJt",
        "colab": {
          "base_uri": "https://localhost:8080/"
        },
        "outputId": "ae94b614-951f-441f-cb06-7a48d9ea0cec"
      },
      "source": [
        "# Calculating accuracy of prediction\n",
        "count = 0\n",
        "for x in range(len(y_pred)):\n",
        "    if(y_pred[x]==y_test[x]):\n",
        "        count=count+1\n",
        "print('Accuracy:',(count/(len(y_pred)))*100)"
      ],
      "execution_count": 46,
      "outputs": [
        {
          "output_type": "stream",
          "name": "stdout",
          "text": [
            "Accuracy: 82.5\n"
          ]
        }
      ]
    },
    {
      "cell_type": "markdown",
      "metadata": {
        "id": "x6nmajpzhAEn"
      },
      "source": [
        "#Using sklearn LogisticRegression model"
      ]
    },
    {
      "cell_type": "code",
      "metadata": {
        "_kg_hide-output": true,
        "_uuid": "9aaade066015e04f20dd7eb1d37339be75ca3836",
        "id": "iG-BK4i9cBKH",
        "colab": {
          "base_uri": "https://localhost:8080/"
        },
        "outputId": "d5d39b40-d7bf-4b73-ed5c-6928653f8598"
      },
      "source": [
        "# Fitting Logistic Regression to the Training set\n",
        "from sklearn.linear_model import LogisticRegression\n",
        "LR = LogisticRegression(random_state = 80)\n",
        "\n",
        "#Fit\n",
        "LR.fit(X_train, y_train)\n",
        "\n",
        "#predicting the test label with LR. Predict always takes X as input\n",
        "y_pred=LR.predict(X_test)\n",
        "print(y_pred)"
      ],
      "execution_count": 47,
      "outputs": [
        {
          "output_type": "stream",
          "name": "stdout",
          "text": [
            "[0 0 0 1 0 0 0 0 0 0 1 1 1 1 0 1 0 0 0 0 0 0 0 0 1 1 0 0 0 0 0 0 0 0 0 0 0\n",
            " 0 1 0 0 1 1 0 0 0 1 0 0 0 0 1 0 0 1 0 0 0 0 0 0 0 1 0 1 0 0 0 0 0 0 0 1 0\n",
            " 0 0 0 0 0 1 1 0 0 0 1 1 0 0 1 0 0 0 0 1 0 0 0 1 0 1 0 0 0 0 0 0 1 1 0 1 0\n",
            " 0 0 0 0 0 0 0 1 1]\n"
          ]
        }
      ]
    },
    {
      "cell_type": "code",
      "metadata": {
        "id": "OskWLpP1VwFR",
        "colab": {
          "base_uri": "https://localhost:8080/"
        },
        "outputId": "2a38f502-25d6-4465-90fa-1cd8c72bbd37"
      },
      "source": [
        "count = 0\n",
        "for x in range(len(y_pred)):\n",
        "    if(y_pred[x]==y_test[x]):\n",
        "        count=count+1\n",
        "print('Accuracy:',(count/(len(y_pred)))*100)"
      ],
      "execution_count": 48,
      "outputs": [
        {
          "output_type": "stream",
          "name": "stdout",
          "text": [
            "Accuracy: 82.5\n"
          ]
        }
      ]
    },
    {
      "cell_type": "markdown",
      "metadata": {
        "id": "Y8sYVBu-iSW-"
      },
      "source": [
        "**Exercise:**\n",
        "\n",
        "Try logistic regression on BuyComputer dataset and set Random state=Your_RollNumber (last 3 digit of ID, incase if you don't have ID)"
      ]
    }
  ]
}