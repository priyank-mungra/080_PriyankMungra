{
 "cells": [
  {
   "cell_type": "code",
   "execution_count": 75,
   "id": "5a0e7241",
   "metadata": {},
   "outputs": [],
   "source": [
    "import nltk, scipy, numpy, matplotlib, pandas"
   ]
  },
  {
   "cell_type": "code",
   "execution_count": 76,
   "id": "3df94a99",
   "metadata": {},
   "outputs": [],
   "source": [
    "random_text = r\"Most people's opinion about current events is shaped by the commitment and consistency bias Changing your mind, and admitting you were duped, is extraordinarily difficult for a human being Be the light for your friends and family, have compassion, help them open their eyes https://twitter.com/DejaRu22/status/1421796697382998020?s=20 #opinion #change #compassion\";"
   ]
  },
  {
   "cell_type": "code",
   "execution_count": 77,
   "id": "a80b61f6",
   "metadata": {},
   "outputs": [],
   "source": [
    "import re\n",
    "import string\n",
    "\n",
    "from nltk.corpus import stopwords\n",
    "from nltk.stem import PorterStemmer\n",
    "from nltk.tokenize import TweetTokenizer"
   ]
  },
  {
   "cell_type": "code",
   "execution_count": 78,
   "id": "9ded0ee7",
   "metadata": {},
   "outputs": [
    {
     "name": "stdout",
     "output_type": "stream",
     "text": [
      "\u001b[92mMost people's opinion about current events is shaped by the commitment and consistency bias Changing your mind, and admitting you were duped, is extraordinarily difficult for a human being Be the light for your friends and family, have compassion, help them open their eyes https://twitter.com/DejaRu22/status/1421796697382998020?s=20 #opinion #change #compassion\n",
      "\u001b[94m\n",
      "Most people's opinion about current events is shaped by the commitment and consistency bias Changing your mind, and admitting you were duped, is extraordinarily difficult for a human being Be the light for your friends and family, have compassion, help them open their eyes opinion change compassion\n"
     ]
    }
   ],
   "source": [
    "print('\\033[92m' + random_text)\n",
    "print('\\033[94m')\n",
    "# remove hyperlinks\n",
    "plain_txt = re.sub(r'https?:\\/\\/[^ \\r\\n]*[ \\r\\n]*', '', random_text)\n",
    "# remove hashtags\n",
    "# only removing the hash # sign from the word\n",
    "plain_txt = re.sub(r'#', '', plain_txt)\n",
    "print(plain_txt)"
   ]
  },
  {
   "cell_type": "code",
   "execution_count": 79,
   "id": "e6c0e436",
   "metadata": {},
   "outputs": [
    {
     "name": "stdout",
     "output_type": "stream",
     "text": [
      "\n",
      "\u001b[92mMost people's opinion about current events is shaped by the commitment and consistency bias Changing your mind, and admitting you were duped, is extraordinarily difficult for a human being Be the light for your friends and family, have compassion, help them open their eyes opinion change compassion\n",
      "\u001b[94m\n",
      "\n",
      "Tokenized string:\n",
      "['most', \"people's\", 'opinion', 'about', 'current', 'events', 'is', 'shaped', 'by', 'the', 'commitment', 'and', 'consistency', 'bias', 'changing', 'your', 'mind', ',', 'and', 'admitting', 'you', 'were', 'duped', ',', 'is', 'extraordinarily', 'difficult', 'for', 'a', 'human', 'being', 'be', 'the', 'light', 'for', 'your', 'friends', 'and', 'family', ',', 'have', 'compassion', ',', 'help', 'them', 'open', 'their', 'eyes', 'opinion', 'change', 'compassion']\n"
     ]
    }
   ],
   "source": [
    "print()\n",
    "print('\\033[92m' + plain_txt)\n",
    "print('\\033[94m')\n",
    "# instantiate tokenizer class\n",
    "tokenizer = TweetTokenizer(preserve_case=False)\n",
    "# tokenize tweets\n",
    "txt_tokens = tokenizer.tokenize(plain_txt)\n",
    "print()\n",
    "print('Tokenized string:')\n",
    "print(txt_tokens)"
   ]
  },
  {
   "cell_type": "code",
   "execution_count": 80,
   "id": "e3716d72",
   "metadata": {},
   "outputs": [
    {
     "name": "stdout",
     "output_type": "stream",
     "text": [
      "stop words\n",
      "\n",
      "['i', 'me', 'my', 'myself', 'we', 'our', 'ours', 'ourselves', 'you', \"you're\", \"you've\", \"you'll\", \"you'd\", 'your', 'yours', 'yourself', 'yourselves', 'he', 'him', 'his', 'himself', 'she', \"she's\", 'her', 'hers', 'herself', 'it', \"it's\", 'its', 'itself', 'they', 'them', 'their', 'theirs', 'themselves', 'what', 'which', 'who', 'whom', 'this', 'that', \"that'll\", 'these', 'those', 'am', 'is', 'are', 'was', 'were', 'be', 'been', 'being', 'have', 'has', 'had', 'having', 'do', 'does', 'did', 'doing', 'a', 'an', 'the', 'and', 'but', 'if', 'or', 'because', 'as', 'until', 'while', 'of', 'at', 'by', 'for', 'with', 'about', 'against', 'between', 'into', 'through', 'during', 'before', 'after', 'above', 'below', 'to', 'from', 'up', 'down', 'in', 'out', 'on', 'off', 'over', 'under', 'again', 'further', 'then', 'once', 'here', 'there', 'when', 'where', 'why', 'how', 'all', 'any', 'both', 'each', 'few', 'more', 'most', 'other', 'some', 'such', 'no', 'nor', 'not', 'only', 'own', 'same', 'so', 'than', 'too', 'very', 's', 't', 'can', 'will', 'just', 'don', \"don't\", 'should', \"should've\", 'now', 'd', 'll', 'm', 'o', 're', 've', 'y', 'ain', 'aren', \"aren't\", 'couldn', \"couldn't\", 'didn', \"didn't\", 'doesn', \"doesn't\", 'hadn', \"hadn't\", 'hasn', \"hasn't\", 'haven', \"haven't\", 'isn', \"isn't\", 'ma', 'mightn', \"mightn't\", 'mustn', \"mustn't\", 'needn', \"needn't\", 'shan', \"shan't\", 'shouldn', \"shouldn't\", 'wasn', \"wasn't\", 'weren', \"weren't\", 'won', \"won't\", 'wouldn', \"wouldn't\"]\n",
      "\n",
      "Punctuation\n",
      "\n",
      "!\"#$%&'()*+,-./:;<=>?@[\\]^_`{|}~\n"
     ]
    }
   ],
   "source": [
    "stopwords_english = stopwords.words('english')\n",
    "\n",
    "print(\"stop words\\n\")\n",
    "print(stopwords_english)\n",
    "\n",
    "print(\"\\nPunctuation\\n\")\n",
    "print(string.punctuation)"
   ]
  },
  {
   "cell_type": "code",
   "execution_count": 81,
   "id": "e0225c0c",
   "metadata": {},
   "outputs": [
    {
     "name": "stdout",
     "output_type": "stream",
     "text": [
      "\n",
      "\u001b[92m\n",
      "['most', \"people's\", 'opinion', 'about', 'current', 'events', 'is', 'shaped', 'by', 'the', 'commitment', 'and', 'consistency', 'bias', 'changing', 'your', 'mind', ',', 'and', 'admitting', 'you', 'were', 'duped', ',', 'is', 'extraordinarily', 'difficult', 'for', 'a', 'human', 'being', 'be', 'the', 'light', 'for', 'your', 'friends', 'and', 'family', ',', 'have', 'compassion', ',', 'help', 'them', 'open', 'their', 'eyes', 'opinion', 'change', 'compassion']\n",
      "\u001b[90m\n",
      "\n",
      "removed stop words & punctuations:\n",
      "\u001b[94m\n",
      "[\"people's\", 'opinion', 'current', 'events', 'shaped', 'commitment', 'consistency', 'bias', 'changing', 'mind', 'admitting', 'duped', 'extraordinarily', 'difficult', 'human', 'light', 'friends', 'family', 'compassion', 'help', 'open', 'eyes', 'opinion', 'change', 'compassion']\n"
     ]
    }
   ],
   "source": [
    "#Remove stopwords & punctuation\n",
    "\n",
    "print()\n",
    "print('\\033[92m')\n",
    "print(txt_tokens)\n",
    "print('\\033[90m')\n",
    "\n",
    "txt_clean = []\n",
    "\n",
    "for word in txt_tokens:\n",
    "    if(word not in stopwords_english and\n",
    "      word not in string.punctuation):\n",
    "        txt_clean.append(word)\n",
    "\n",
    "print(\"\\nremoved stop words & punctuations:\")\n",
    "print('\\033[94m')\n",
    "print(txt_clean)"
   ]
  },
  {
   "cell_type": "code",
   "execution_count": 82,
   "id": "7d7357f9",
   "metadata": {},
   "outputs": [
    {
     "name": "stdout",
     "output_type": "stream",
     "text": [
      "\n",
      "\u001b[92m\n",
      "[\"people's\", 'opinion', 'current', 'events', 'shaped', 'commitment', 'consistency', 'bias', 'changing', 'mind', 'admitting', 'duped', 'extraordinarily', 'difficult', 'human', 'light', 'friends', 'family', 'compassion', 'help', 'open', 'eyes', 'opinion', 'change', 'compassion']\n",
      "\u001b[94m\n",
      "stemmed words:\n",
      "[\"people'\", 'opinion', 'current', 'event', 'shape', 'commit', 'consist', 'bia', 'chang', 'mind', 'admit', 'dupe', 'extraordinarili', 'difficult', 'human', 'light', 'friend', 'famili', 'compass', 'help', 'open', 'eye', 'opinion', 'chang', 'compass']\n"
     ]
    }
   ],
   "source": [
    "#Stemming\n",
    "\n",
    "print()\n",
    "print('\\033[92m')\n",
    "print(txt_clean)\n",
    "print('\\033[94m')\n",
    "\n",
    "# Instantiate stemming class\n",
    "stemmer = PorterStemmer()\n",
    "\n",
    "# Create an empty list to store the stems\n",
    "txt_stem = []\n",
    "for word in txt_clean:\n",
    "    stem_word = stemmer.stem(word)\n",
    "    txt_stem.append(stem_word)\n",
    "\n",
    "print('stemmed words:')\n",
    "print(txt_stem)"
   ]
  }
 ],
 "metadata": {
  "kernelspec": {
   "display_name": "Python 3",
   "language": "python",
   "name": "python3"
  },
  "language_info": {
   "codemirror_mode": {
    "name": "ipython",
    "version": 3
   },
   "file_extension": ".py",
   "mimetype": "text/x-python",
   "name": "python",
   "nbconvert_exporter": "python",
   "pygments_lexer": "ipython3",
   "version": "3.8.8"
  }
 },
 "nbformat": 4,
 "nbformat_minor": 5
}
