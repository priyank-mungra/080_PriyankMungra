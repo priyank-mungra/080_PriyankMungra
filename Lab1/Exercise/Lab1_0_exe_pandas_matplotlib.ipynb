{
 "cells": [
  {
   "cell_type": "code",
   "execution_count": 1,
   "metadata": {
    "executionInfo": {
     "elapsed": 6,
     "status": "ok",
     "timestamp": 1627822360145,
     "user": {
      "displayName": "CE080_Priyank_Mungra",
      "photoUrl": "https://lh3.googleusercontent.com/a-/AOh14GgVZAXu3VoN3bHKHz-WW2rAtTJLgeJ0cJtps2Bb=s64",
      "userId": "11089226494274084244"
     },
     "user_tz": -330
    },
    "id": "rIloqKXcwqpE"
   },
   "outputs": [],
   "source": [
    "# importing modules\n",
    "import pandas as pd\n",
    "import numpy as np\n",
    "import matplotlib.pyplot as plt"
   ]
  },
  {
   "cell_type": "code",
   "execution_count": 2,
   "metadata": {
    "colab": {
     "base_uri": "https://localhost:8080/"
    },
    "executionInfo": {
     "elapsed": 22963,
     "status": "ok",
     "timestamp": 1627822429905,
     "user": {
      "displayName": "CE080_Priyank_Mungra",
      "photoUrl": "https://lh3.googleusercontent.com/a-/AOh14GgVZAXu3VoN3bHKHz-WW2rAtTJLgeJ0cJtps2Bb=s64",
      "userId": "11089226494274084244"
     },
     "user_tz": -330
    },
    "id": "FdOamtsvxdyI",
    "outputId": "e00fa371-eef1-4ac8-812a-8d904050788e"
   },
   "outputs": [
    {
     "name": "stdout",
     "output_type": "stream",
     "text": [
      "Mounted at /content/drive\n"
     ]
    }
   ],
   "source": [
    "from google.colab import drive\n",
    "drive.mount('/content/drive')"
   ]
  },
  {
   "cell_type": "code",
   "execution_count": 5,
   "metadata": {
    "colab": {
     "base_uri": "https://localhost:8080/"
    },
    "executionInfo": {
     "elapsed": 580,
     "status": "ok",
     "timestamp": 1627822558692,
     "user": {
      "displayName": "CE080_Priyank_Mungra",
      "photoUrl": "https://lh3.googleusercontent.com/a-/AOh14GgVZAXu3VoN3bHKHz-WW2rAtTJLgeJ0cJtps2Bb=s64",
      "userId": "11089226494274084244"
     },
     "user_tz": -330
    },
    "id": "iYn2D7i1xrrU",
    "outputId": "36099d08-b749-449c-cda5-682108471542"
   },
   "outputs": [
    {
     "name": "stdout",
     "output_type": "stream",
     "text": [
      "    Country  Age  Salary Purchased\n",
      "0    France   44   72000        No\n",
      "1     Spain   27   48000       Yes\n",
      "2   Germany   30   54000        No\n",
      "3     Spain   38   61000        No\n",
      "4   Germany   40   68000       Yes\n",
      "5    France   35   58000       Yes\n",
      "6     Spain   39   52000        No\n",
      "7    France   48   79000       Yes\n",
      "8   Germany   50   83000        No\n",
      "9    France   37   67000       Yes\n",
      "10    Spain   45   55000        No\n",
      "11   France   39   71000       Yes\n",
      "12  Germany   42   64000        No\n",
      "13    Spain   36   67000        No\n"
     ]
    }
   ],
   "source": [
    "csv_data = pd.read_csv('/content/drive/My Drive/Colab Notebooks/ML-Lab/L1/Data_for_Transformation.csv')\n",
    "print(csv_data)"
   ]
  },
  {
   "cell_type": "code",
   "execution_count": 15,
   "metadata": {
    "colab": {
     "base_uri": "https://localhost:8080/",
     "height": 265
    },
    "executionInfo": {
     "elapsed": 14,
     "status": "ok",
     "timestamp": 1627822922088,
     "user": {
      "displayName": "CE080_Priyank_Mungra",
      "photoUrl": "https://lh3.googleusercontent.com/a-/AOh14GgVZAXu3VoN3bHKHz-WW2rAtTJLgeJ0cJtps2Bb=s64",
      "userId": "11089226494274084244"
     },
     "user_tz": -330
    },
    "id": "-V1B6wEXyCeb",
    "outputId": "60a47a22-ad30-486b-a574-91734029d543"
   },
   "outputs": [
    {
     "data": {
      "image/png": "[encoded data removed]",
      "text/plain": [
       "<Figure size 432x288 with 1 Axes>"
      ]
     },
     "metadata": {
      "needs_background": "light",
      "tags": []
     },
     "output_type": "display_data"
    }
   ],
   "source": [
    "plt.scatter(csv_data[\"Age\"], csv_data[\"Salary\"])\n",
    "plt.show()"
   ]
  },
  {
   "cell_type": "code",
   "execution_count": 14,
   "metadata": {
    "colab": {
     "base_uri": "https://localhost:8080/",
     "height": 265
    },
    "executionInfo": {
     "elapsed": 691,
     "status": "ok",
     "timestamp": 1627822901201,
     "user": {
      "displayName": "CE080_Priyank_Mungra",
      "photoUrl": "https://lh3.googleusercontent.com/a-/AOh14GgVZAXu3VoN3bHKHz-WW2rAtTJLgeJ0cJtps2Bb=s64",
      "userId": "11089226494274084244"
     },
     "user_tz": -330
    },
    "id": "bF0WC6wiyLpd",
    "outputId": "a5f3d8cc-4caa-43a9-c9ce-af3a9c0ca467"
   },
   "outputs": [
    {
     "data": {
      "image/png": "[encoded data removed]",
      "text/plain": [
       "<Figure size 432x288 with 1 Axes>"
      ]
     },
     "metadata": {
      "needs_background": "light",
      "tags": []
     },
     "output_type": "display_data"
    }
   ],
   "source": [
    "plt.hist(csv_data['Salary'])\n",
    "plt.show()"
   ]
  },
  {
   "cell_type": "code",
   "execution_count": 9,
   "metadata": {
    "colab": {
     "base_uri": "https://localhost:8080/",
     "height": 350
    },
    "executionInfo": {
     "elapsed": 1110,
     "status": "ok",
     "timestamp": 1627822755637,
     "user": {
      "displayName": "CE080_Priyank_Mungra",
      "photoUrl": "https://lh3.googleusercontent.com/a-/AOh14GgVZAXu3VoN3bHKHz-WW2rAtTJLgeJ0cJtps2Bb=s64",
      "userId": "11089226494274084244"
     },
     "user_tz": -330
    },
    "id": "MvIZlujlynST",
    "outputId": "170c66de-021d-4eca-db07-c4d90f7f3719"
   },
   "outputs": [
    {
     "data": {
      "image/png": "[encoded data removed]",
      "text/plain": [
       "<Figure size 504x360 with 1 Axes>"
      ]
     },
     "metadata": {
      "needs_background": "light",
      "tags": []
     },
     "output_type": "display_data"
    }
   ],
   "source": [
    "fig_size = plt.figure(figsize=(7, 5))\n",
    "plt.bar(csv_data[\"Country\"], csv_data[\"Salary\"], color=\"red\")\n",
    "plt.xlabel(\"Salaries\")\n",
    "plt.ylabel(\"Countries\")\n",
    "plt.title(\"Bar chart of country vs salary\")\n",
    "plt.show()"
   ]
  }
 ],
 "metadata": {
  "colab": {
   "authorship_tag": "ABX9TyNo4hHWksX75pqS1cwbVqwn",
   "collapsed_sections": [],
   "name": "Lab1_0_exe_pandas_matplotlib.ipynb",
   "provenance": []
  },
  "kernelspec": {
   "display_name": "Python 3",
   "language": "python",
   "name": "python3"
  },
  "language_info": {
   "codemirror_mode": {
    "name": "ipython",
    "version": 3
   },
   "file_extension": ".py",
   "mimetype": "text/x-python",
   "name": "python",
   "nbconvert_exporter": "python",
   "pygments_lexer": "ipython3",
   "version": "3.8.8"
  }
 },
 "nbformat": 4,
 "nbformat_minor": 1
}
